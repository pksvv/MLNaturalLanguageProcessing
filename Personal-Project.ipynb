{
 "cells": [
  {
   "cell_type": "markdown",
   "metadata": {},
   "source": [
    "# Spam Detection and Email Classification"
   ]
  },
  {
   "cell_type": "markdown",
   "metadata": {},
   "source": [
    "# Step 1\n",
    "1. Detect spam from inbox and move the mails to spam folder.\n",
    "\n",
    "2. Detect all the job interview emails and move them to job folder.\n",
    "\n",
    "3. Detect all the promotion emails and move them to promotion folder."
   ]
  },
  {
   "cell_type": "markdown",
   "metadata": {},
   "source": [
    "# Step 2\n",
    "1. Create a github repo and a README.md file to detail what your models do.\n",
    "\n",
    "2. Move this project to your github profile.\n",
    "\n",
    "3. Create a webapp for the same."
   ]
  },
  {
   "cell_type": "markdown",
   "metadata": {},
   "source": [
    "# Chatbot"
   ]
  },
  {
   "cell_type": "markdown",
   "metadata": {},
   "source": [
    "1. Understand Chatbot components - intent classification, entity recognition, dialog context retention.\n",
    "\n",
    "2. Explore Dialogflow, or LUIS, or WIT.AI, or LEX.AI.\n",
    "\n",
    "3. Try creating chatbot with any of the above services.\n",
    "\n",
    "4. Learn RASA. This is a very interesting and most popular framework for creating chatbots.\n",
    "\n",
    "5. Another framework in core.ai."
   ]
  }
 ],
 "metadata": {
  "kernelspec": {
   "display_name": "Python 3",
   "language": "python",
   "name": "python3"
  },
  "language_info": {
   "codemirror_mode": {
    "name": "ipython",
    "version": 3
   },
   "file_extension": ".py",
   "mimetype": "text/x-python",
   "name": "python",
   "nbconvert_exporter": "python",
   "pygments_lexer": "ipython3",
   "version": "3.8.3"
  }
 },
 "nbformat": 4,
 "nbformat_minor": 4
}
